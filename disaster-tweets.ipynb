{
 "cells": [
  {
   "cell_type": "markdown",
   "id": "5d0d5cd6",
   "metadata": {
    "papermill": {
     "duration": 0.004509,
     "end_time": "2025-10-07T04:58:57.356917",
     "exception": false,
     "start_time": "2025-10-07T04:58:57.352408",
     "status": "completed"
    },
    "tags": []
   },
   "source": [
    "# Natural Language Processing with Disaster Tweets\n",
    "\n",
    "## Table of Contents\n",
    "1. [Problem Description](#problem-description)\n",
    "2. [Exploratory Data Analysis (EDA)](#exploratory-data-analysis-eda)\n",
    "3. [Model Architecture](#model-architecture)\n",
    "4. [Results and Analysis](#results-and-analysis)\n",
    "5. [Conclusion](#conclusion)\n",
    "6. [Submission Preparation](#submission-preparation)\n",
    "\n",
    "---\n",
    "\n",
    "## Problem Description\n",
    "\n",
    "This project focuses on classifying tweets as disaster-related (`target=1`) or not (`target=0`). The dataset consists of:\n",
    "- **Training Set**: Contains `7613` rows with features like `text`, `keyword`, `location`, and `target`.\n",
    "- **Test Set**: Contains `3263` rows for prediction.\n",
    "- **Sample Submission**: A template for Kaggle submission.\n",
    "\n",
    "The goal is to preprocess the text data, build a machine learning model, and submit predictions to Kaggle."
   ]
  },
  {
   "cell_type": "markdown",
   "id": "bf0a6fb0",
   "metadata": {
    "papermill": {
     "duration": 0.003365,
     "end_time": "2025-10-07T04:58:57.364223",
     "exception": false,
     "start_time": "2025-10-07T04:58:57.360858",
     "status": "completed"
    },
    "tags": []
   },
   "source": [
    "Exploratory Data Analysis (EDA)\n",
    "1. Dataset Inspection\n",
    "The dataset was loaded and inspected for missing values and duplicates:"
   ]
  },
  {
   "cell_type": "code",
   "execution_count": 1,
   "id": "f7d70999",
   "metadata": {
    "execution": {
     "iopub.execute_input": "2025-10-07T04:58:57.373248Z",
     "iopub.status.busy": "2025-10-07T04:58:57.372493Z",
     "iopub.status.idle": "2025-10-07T04:59:01.185612Z",
     "shell.execute_reply": "2025-10-07T04:59:01.184676Z"
    },
    "papermill": {
     "duration": 3.819459,
     "end_time": "2025-10-07T04:59:01.187319",
     "exception": false,
     "start_time": "2025-10-07T04:58:57.367860",
     "status": "completed"
    },
    "tags": []
   },
   "outputs": [],
   "source": [
    "# Import Libraries and Load Data\n",
    "import pandas as pd\n",
    "import numpy as np\n",
    "import matplotlib.pyplot as plt\n",
    "import seaborn as sns\n",
    "from sklearn.model_selection import train_test_split\n",
    "from sklearn.feature_extraction.text import TfidfVectorizer\n",
    "from sklearn.metrics import accuracy_score, confusion_matrix, classification_report\n",
    "from sklearn.ensemble import RandomForestClassifier\n",
    "from sklearn.model_selection import GridSearchCV\n",
    "\n",
    "# Load datasets\n",
    "df_train = pd.read_csv('/kaggle/input/nlp-getting-started/train.csv', index_col='id')\n",
    "df_test = pd.read_csv('/kaggle/input/nlp-getting-started/test.csv', index_col='id')\n",
    "df_subm = pd.read_csv('/kaggle/input/nlp-getting-started/sample_submission.csv')"
   ]
  },
  {
   "cell_type": "markdown",
   "id": "fb062015",
   "metadata": {
    "papermill": {
     "duration": 0.00355,
     "end_time": "2025-10-07T04:59:01.194916",
     "exception": false,
     "start_time": "2025-10-07T04:59:01.191366",
     "status": "completed"
    },
    "tags": []
   },
   "source": [
    "Data Overview"
   ]
  },
  {
   "cell_type": "code",
   "execution_count": 2,
   "id": "4460c22f",
   "metadata": {
    "execution": {
     "iopub.execute_input": "2025-10-07T04:59:01.203246Z",
     "iopub.status.busy": "2025-10-07T04:59:01.202944Z",
     "iopub.status.idle": "2025-10-07T04:59:01.224183Z",
     "shell.execute_reply": "2025-10-07T04:59:01.223340Z"
    },
    "papermill": {
     "duration": 0.027029,
     "end_time": "2025-10-07T04:59:01.225522",
     "exception": false,
     "start_time": "2025-10-07T04:59:01.198493",
     "status": "completed"
    },
    "tags": []
   },
   "outputs": [
    {
     "name": "stdout",
     "output_type": "stream",
     "text": [
      "Train set shape: (7613, 4)\n",
      "Test set shape: (3263, 3)\n"
     ]
    },
    {
     "data": {
      "text/html": [
       "<div>\n",
       "<style scoped>\n",
       "    .dataframe tbody tr th:only-of-type {\n",
       "        vertical-align: middle;\n",
       "    }\n",
       "\n",
       "    .dataframe tbody tr th {\n",
       "        vertical-align: top;\n",
       "    }\n",
       "\n",
       "    .dataframe thead th {\n",
       "        text-align: right;\n",
       "    }\n",
       "</style>\n",
       "<table border=\"1\" class=\"dataframe\">\n",
       "  <thead>\n",
       "    <tr style=\"text-align: right;\">\n",
       "      <th></th>\n",
       "      <th>keyword</th>\n",
       "      <th>location</th>\n",
       "      <th>text</th>\n",
       "      <th>target</th>\n",
       "    </tr>\n",
       "    <tr>\n",
       "      <th>id</th>\n",
       "      <th></th>\n",
       "      <th></th>\n",
       "      <th></th>\n",
       "      <th></th>\n",
       "    </tr>\n",
       "  </thead>\n",
       "  <tbody>\n",
       "    <tr>\n",
       "      <th>1</th>\n",
       "      <td>NaN</td>\n",
       "      <td>NaN</td>\n",
       "      <td>Our Deeds are the Reason of this #earthquake M...</td>\n",
       "      <td>1</td>\n",
       "    </tr>\n",
       "    <tr>\n",
       "      <th>4</th>\n",
       "      <td>NaN</td>\n",
       "      <td>NaN</td>\n",
       "      <td>Forest fire near La Ronge Sask. Canada</td>\n",
       "      <td>1</td>\n",
       "    </tr>\n",
       "    <tr>\n",
       "      <th>5</th>\n",
       "      <td>NaN</td>\n",
       "      <td>NaN</td>\n",
       "      <td>All residents asked to 'shelter in place' are ...</td>\n",
       "      <td>1</td>\n",
       "    </tr>\n",
       "    <tr>\n",
       "      <th>6</th>\n",
       "      <td>NaN</td>\n",
       "      <td>NaN</td>\n",
       "      <td>13,000 people receive #wildfires evacuation or...</td>\n",
       "      <td>1</td>\n",
       "    </tr>\n",
       "    <tr>\n",
       "      <th>7</th>\n",
       "      <td>NaN</td>\n",
       "      <td>NaN</td>\n",
       "      <td>Just got sent this photo from Ruby #Alaska as ...</td>\n",
       "      <td>1</td>\n",
       "    </tr>\n",
       "  </tbody>\n",
       "</table>\n",
       "</div>"
      ],
      "text/plain": [
       "   keyword location                                               text  target\n",
       "id                                                                            \n",
       "1      NaN      NaN  Our Deeds are the Reason of this #earthquake M...       1\n",
       "4      NaN      NaN             Forest fire near La Ronge Sask. Canada       1\n",
       "5      NaN      NaN  All residents asked to 'shelter in place' are ...       1\n",
       "6      NaN      NaN  13,000 people receive #wildfires evacuation or...       1\n",
       "7      NaN      NaN  Just got sent this photo from Ruby #Alaska as ...       1"
      ]
     },
     "metadata": {},
     "output_type": "display_data"
    }
   ],
   "source": [
    "# Check dataset dimensions\n",
    "print(\"Train set shape:\", df_train.shape)\n",
    "print(\"Test set shape:\", df_test.shape)\n",
    "\n",
    "# Display first few rows\n",
    "display(df_train.head())"
   ]
  },
  {
   "cell_type": "markdown",
   "id": "2f2ab72b",
   "metadata": {
    "papermill": {
     "duration": 0.003558,
     "end_time": "2025-10-07T04:59:01.233126",
     "exception": false,
     "start_time": "2025-10-07T04:59:01.229568",
     "status": "completed"
    },
    "tags": []
   },
   "source": [
    "Missing Values and Duplicates"
   ]
  },
  {
   "cell_type": "code",
   "execution_count": 3,
   "id": "538050ab",
   "metadata": {
    "execution": {
     "iopub.execute_input": "2025-10-07T04:59:01.242058Z",
     "iopub.status.busy": "2025-10-07T04:59:01.241351Z",
     "iopub.status.idle": "2025-10-07T04:59:01.252953Z",
     "shell.execute_reply": "2025-10-07T04:59:01.251831Z"
    },
    "papermill": {
     "duration": 0.017451,
     "end_time": "2025-10-07T04:59:01.254228",
     "exception": false,
     "start_time": "2025-10-07T04:59:01.236777",
     "status": "completed"
    },
    "tags": []
   },
   "outputs": [
    {
     "name": "stdout",
     "output_type": "stream",
     "text": [
      "Missing values in train set:\n",
      " keyword       61\n",
      "location    2533\n",
      "text           0\n",
      "target         0\n",
      "dtype: int64\n",
      "Missing values in test set:\n",
      " keyword       26\n",
      "location    1105\n",
      "text           0\n",
      "dtype: int64\n",
      "Duplicate entries in train set: 110\n",
      "Duplicate entries in test set: 20\n"
     ]
    }
   ],
   "source": [
    "# Check for missing values\n",
    "print(\"Missing values in train set:\\n\", df_train.isna().sum())\n",
    "print(\"Missing values in test set:\\n\", df_test.isna().sum())\n",
    "\n",
    "# Check for duplicates\n",
    "print(\"Duplicate entries in train set:\", df_train.duplicated(subset=['text']).sum())\n",
    "print(\"Duplicate entries in test set:\", df_test.duplicated(subset=['text']).sum())"
   ]
  },
  {
   "cell_type": "markdown",
   "id": "d489b0ba",
   "metadata": {
    "papermill": {
     "duration": 0.003686,
     "end_time": "2025-10-07T04:59:01.261903",
     "exception": false,
     "start_time": "2025-10-07T04:59:01.258217",
     "status": "completed"
    },
    "tags": []
   },
   "source": [
    "Visualizations"
   ]
  },
  {
   "cell_type": "code",
   "execution_count": 4,
   "id": "c5374a0c",
   "metadata": {
    "execution": {
     "iopub.execute_input": "2025-10-07T04:59:01.272124Z",
     "iopub.status.busy": "2025-10-07T04:59:01.271840Z",
     "iopub.status.idle": "2025-10-07T04:59:01.812205Z",
     "shell.execute_reply": "2025-10-07T04:59:01.811278Z"
    },
    "papermill": {
     "duration": 0.546607,
     "end_time": "2025-10-07T04:59:01.813588",
     "exception": false,
     "start_time": "2025-10-07T04:59:01.266981",
     "status": "completed"
    },
    "tags": []
   },
   "outputs": [
    {
     "data": {
      "image/png": "[encoded data removed]",
      "text/plain": [
       "<Figure size 1000x600 with 1 Axes>"
      ]
     },
     "metadata": {},
     "output_type": "display_data"
    },
    {
     "name": "stderr",
     "output_type": "stream",
     "text": [
      "/usr/local/lib/python3.11/dist-packages/seaborn/_oldcore.py:1119: FutureWarning: use_inf_as_na option is deprecated and will be removed in a future version. Convert inf values to NaN before operating instead.\n",
      "  with pd.option_context('mode.use_inf_as_na', True):\n"
     ]
    },
    {
     "data": {
      "image/png": "[encoded data removed]",
      "text/plain": [
       "<Figure size 1000x600 with 1 Axes>"
      ]
     },
     "metadata": {},
     "output_type": "display_data"
    }
   ],
   "source": [
    "# Target distribution\n",
    "plt.figure(figsize=(10, 6))\n",
    "sns.countplot(x='target', data=df_train)\n",
    "plt.title(\"Distribution of Target Classes\")\n",
    "plt.show()\n",
    "\n",
    "# Text length distribution\n",
    "df_train['text_length'] = df_train['text'].apply(len)\n",
    "plt.figure(figsize=(10, 6))\n",
    "sns.histplot(df_train['text_length'], bins=50, kde=True)\n",
    "plt.title(\"Text Length Distribution\")\n",
    "plt.xlabel(\"Text Length\")\n",
    "plt.ylabel(\"Frequency\")\n",
    "plt.show()"
   ]
  },
  {
   "cell_type": "markdown",
   "id": "f938b017",
   "metadata": {
    "papermill": {
     "duration": 0.004752,
     "end_time": "2025-10-07T04:59:01.823690",
     "exception": false,
     "start_time": "2025-10-07T04:59:01.818938",
     "status": "completed"
    },
    "tags": []
   },
   "source": [
    "Model Architecture\n",
    "Text Preprocessing"
   ]
  },
  {
   "cell_type": "code",
   "execution_count": 5,
   "id": "1959f0ff",
   "metadata": {
    "execution": {
     "iopub.execute_input": "2025-10-07T04:59:01.834805Z",
     "iopub.status.busy": "2025-10-07T04:59:01.834481Z",
     "iopub.status.idle": "2025-10-07T04:59:02.009771Z",
     "shell.execute_reply": "2025-10-07T04:59:02.009063Z"
    },
    "papermill": {
     "duration": 0.183209,
     "end_time": "2025-10-07T04:59:02.011655",
     "exception": false,
     "start_time": "2025-10-07T04:59:01.828446",
     "status": "completed"
    },
    "tags": []
   },
   "outputs": [],
   "source": [
    "# Drop duplicates from train set\n",
    "df_train = df_train.drop_duplicates(subset=['text'])\n",
    "\n",
    "# TF-IDF Vectorization\n",
    "tfidf_vectorizer = TfidfVectorizer(max_features=10000)\n",
    "X_train_tfidf = tfidf_vectorizer.fit_transform(df_train['text'])\n",
    "y_train = df_train['target']\n",
    "\n",
    "# Define target variable\n",
    "y_train = df_train['target']"
   ]
  },
  {
   "cell_type": "markdown",
   "id": "70a8b6bf",
   "metadata": {
    "papermill": {
     "duration": 0.004696,
     "end_time": "2025-10-07T04:59:02.021597",
     "exception": false,
     "start_time": "2025-10-07T04:59:02.016901",
     "status": "completed"
    },
    "tags": []
   },
   "source": [
    "Model Selection\n",
    "We will use a Random Forest Classifier due to its robustness and interpretability."
   ]
  },
  {
   "cell_type": "code",
   "execution_count": 6,
   "id": "3e55cdff",
   "metadata": {
    "execution": {
     "iopub.execute_input": "2025-10-07T04:59:02.032669Z",
     "iopub.status.busy": "2025-10-07T04:59:02.032016Z",
     "iopub.status.idle": "2025-10-07T04:59:12.681469Z",
     "shell.execute_reply": "2025-10-07T04:59:12.680499Z"
    },
    "papermill": {
     "duration": 10.656459,
     "end_time": "2025-10-07T04:59:12.682899",
     "exception": false,
     "start_time": "2025-10-07T04:59:02.026440",
     "status": "completed"
    },
    "tags": []
   },
   "outputs": [
    {
     "name": "stdout",
     "output_type": "stream",
     "text": [
      "Validation Accuracy: 0.7634910059960026\n",
      "Classification Report:\n",
      "               precision    recall  f1-score   support\n",
      "\n",
      "           0       0.74      0.91      0.82       874\n",
      "           1       0.81      0.56      0.67       627\n",
      "\n",
      "    accuracy                           0.76      1501\n",
      "   macro avg       0.78      0.74      0.74      1501\n",
      "weighted avg       0.77      0.76      0.75      1501\n",
      "\n"
     ]
    }
   ],
   "source": [
    "# Split data into training and validation sets\n",
    "X_train, X_val, y_train, y_val = train_test_split(X_train_tfidf, y_train, test_size=0.2, random_state=42)\n",
    "\n",
    "# Initialize Random Forest Classifier\n",
    "rf_model = RandomForestClassifier(n_estimators=100, random_state=42)\n",
    "rf_model.fit(X_train, y_train)\n",
    "\n",
    "# Evaluate on validation set\n",
    "y_val_pred = rf_model.predict(X_val)\n",
    "print(\"Validation Accuracy:\", accuracy_score(y_val, y_val_pred))\n",
    "print(\"Classification Report:\\n\", classification_report(y_val, y_val_pred))"
   ]
  },
  {
   "cell_type": "markdown",
   "id": "009140bc",
   "metadata": {
    "papermill": {
     "duration": 0.004765,
     "end_time": "2025-10-07T04:59:12.692814",
     "exception": false,
     "start_time": "2025-10-07T04:59:12.688049",
     "status": "completed"
    },
    "tags": []
   },
   "source": [
    "Hyperparameter Tuning"
   ]
  },
  {
   "cell_type": "code",
   "execution_count": 7,
   "id": "20d380f7",
   "metadata": {
    "execution": {
     "iopub.execute_input": "2025-10-07T04:59:12.703558Z",
     "iopub.status.busy": "2025-10-07T04:59:12.703225Z",
     "iopub.status.idle": "2025-10-07T05:01:02.767502Z",
     "shell.execute_reply": "2025-10-07T05:01:02.766667Z"
    },
    "papermill": {
     "duration": 110.076772,
     "end_time": "2025-10-07T05:01:02.774313",
     "exception": false,
     "start_time": "2025-10-07T04:59:12.697541",
     "status": "completed"
    },
    "tags": []
   },
   "outputs": [
    {
     "data": {
      "text/html": [
       "<style>#sk-container-id-1 {color: black;background-color: white;}#sk-container-id-1 pre{padding: 0;}#sk-container-id-1 div.sk-toggleable {background-color: white;}#sk-container-id-1 label.sk-toggleable__label {cursor: pointer;display: block;width: 100%;margin-bottom: 0;padding: 0.3em;box-sizing: border-box;text-align: center;}#sk-container-id-1 label.sk-toggleable__label-arrow:before {content: \"▸\";float: left;margin-right: 0.25em;color: #696969;}#sk-container-id-1 label.sk-toggleable__label-arrow:hover:before {color: black;}#sk-container-id-1 div.sk-estimator:hover label.sk-toggleable__label-arrow:before {color: black;}#sk-container-id-1 div.sk-toggleable__content {max-height: 0;max-width: 0;overflow: hidden;text-align: left;background-color: #f0f8ff;}#sk-container-id-1 div.sk-toggleable__content pre {margin: 0.2em;color: black;border-radius: 0.25em;background-color: #f0f8ff;}#sk-container-id-1 input.sk-toggleable__control:checked~div.sk-toggleable__content {max-height: 200px;max-width: 100%;overflow: auto;}#sk-container-id-1 input.sk-toggleable__control:checked~label.sk-toggleable__label-arrow:before {content: \"▾\";}#sk-container-id-1 div.sk-estimator input.sk-toggleable__control:checked~label.sk-toggleable__label {background-color: #d4ebff;}#sk-container-id-1 div.sk-label input.sk-toggleable__control:checked~label.sk-toggleable__label {background-color: #d4ebff;}#sk-container-id-1 input.sk-hidden--visually {border: 0;clip: rect(1px 1px 1px 1px);clip: rect(1px, 1px, 1px, 1px);height: 1px;margin: -1px;overflow: hidden;padding: 0;position: absolute;width: 1px;}#sk-container-id-1 div.sk-estimator {font-family: monospace;background-color: #f0f8ff;border: 1px dotted black;border-radius: 0.25em;box-sizing: border-box;margin-bottom: 0.5em;}#sk-container-id-1 div.sk-estimator:hover {background-color: #d4ebff;}#sk-container-id-1 div.sk-parallel-item::after {content: \"\";width: 100%;border-bottom: 1px solid gray;flex-grow: 1;}#sk-container-id-1 div.sk-label:hover label.sk-toggleable__label {background-color: #d4ebff;}#sk-container-id-1 div.sk-serial::before {content: \"\";position: absolute;border-left: 1px solid gray;box-sizing: border-box;top: 0;bottom: 0;left: 50%;z-index: 0;}#sk-container-id-1 div.sk-serial {display: flex;flex-direction: column;align-items: center;background-color: white;padding-right: 0.2em;padding-left: 0.2em;position: relative;}#sk-container-id-1 div.sk-item {position: relative;z-index: 1;}#sk-container-id-1 div.sk-parallel {display: flex;align-items: stretch;justify-content: center;background-color: white;position: relative;}#sk-container-id-1 div.sk-item::before, #sk-container-id-1 div.sk-parallel-item::before {content: \"\";position: absolute;border-left: 1px solid gray;box-sizing: border-box;top: 0;bottom: 0;left: 50%;z-index: -1;}#sk-container-id-1 div.sk-parallel-item {display: flex;flex-direction: column;z-index: 1;position: relative;background-color: white;}#sk-container-id-1 div.sk-parallel-item:first-child::after {align-self: flex-end;width: 50%;}#sk-container-id-1 div.sk-parallel-item:last-child::after {align-self: flex-start;width: 50%;}#sk-container-id-1 div.sk-parallel-item:only-child::after {width: 0;}#sk-container-id-1 div.sk-dashed-wrapped {border: 1px dashed gray;margin: 0 0.4em 0.5em 0.4em;box-sizing: border-box;padding-bottom: 0.4em;background-color: white;}#sk-container-id-1 div.sk-label label {font-family: monospace;font-weight: bold;display: inline-block;line-height: 1.2em;}#sk-container-id-1 div.sk-label-container {text-align: center;}#sk-container-id-1 div.sk-container {/* jupyter's `normalize.less` sets `[hidden] { display: none; }` but bootstrap.min.css set `[hidden] { display: none !important; }` so we also need the `!important` here to be able to override the default hidden behavior on the sphinx rendered scikit-learn.org. See: https://github.com/scikit-learn/scikit-learn/issues/21755 */display: inline-block !important;position: relative;}#sk-container-id-1 div.sk-text-repr-fallback {display: none;}</style><div id=\"sk-container-id-1\" class=\"sk-top-container\"><div class=\"sk-text-repr-fallback\"><pre>RandomForestClassifier(min_samples_leaf=2, n_estimators=200, random_state=42)</pre><b>In a Jupyter environment, please rerun this cell to show the HTML representation or trust the notebook. <br />On GitHub, the HTML representation is unable to render, please try loading this page with nbviewer.org.</b></div><div class=\"sk-container\" hidden><div class=\"sk-item\"><div class=\"sk-estimator sk-toggleable\"><input class=\"sk-toggleable__control sk-hidden--visually\" id=\"sk-estimator-id-1\" type=\"checkbox\" checked><label for=\"sk-estimator-id-1\" class=\"sk-toggleable__label sk-toggleable__label-arrow\">RandomForestClassifier</label><div class=\"sk-toggleable__content\"><pre>RandomForestClassifier(min_samples_leaf=2, n_estimators=200, random_state=42)</pre></div></div></div></div></div>"
      ],
      "text/plain": [
       "RandomForestClassifier(min_samples_leaf=2, n_estimators=200, random_state=42)"
      ]
     },
     "execution_count": 7,
     "metadata": {},
     "output_type": "execute_result"
    }
   ],
   "source": [
    "# Define and fit Random Forest Classifier with Grid Search\n",
    "param_grid = {\n",
    "    'n_estimators': [100, 200],\n",
    "    'max_depth': [None, 10, 20],\n",
    "    'min_samples_split': [2, 5],\n",
    "    'min_samples_leaf': [1, 2]\n",
    "}\n",
    "grid_search = GridSearchCV(RandomForestClassifier(random_state=42), param_grid, cv=3, scoring='accuracy', n_jobs=-1)\n",
    "grid_search.fit(X_train, y_train)\n",
    "\n",
    "# Train final model with best parameters\n",
    "best_rf_model = grid_search.best_estimator_\n",
    "best_rf_model.fit(X_train, y_train)  # Use the training subset"
   ]
  },
  {
   "cell_type": "markdown",
   "id": "0e3125be",
   "metadata": {
    "papermill": {
     "duration": 0.004908,
     "end_time": "2025-10-07T05:01:02.784503",
     "exception": false,
     "start_time": "2025-10-07T05:01:02.779595",
     "status": "completed"
    },
    "tags": []
   },
   "source": [
    "Results and Analysis\n",
    "Final Model Training"
   ]
  },
  {
   "cell_type": "code",
   "execution_count": 8,
   "id": "7561970c",
   "metadata": {
    "execution": {
     "iopub.execute_input": "2025-10-07T05:01:02.796335Z",
     "iopub.status.busy": "2025-10-07T05:01:02.795540Z",
     "iopub.status.idle": "2025-10-07T05:01:12.861451Z",
     "shell.execute_reply": "2025-10-07T05:01:12.860541Z"
    },
    "papermill": {
     "duration": 10.073378,
     "end_time": "2025-10-07T05:01:12.862909",
     "exception": false,
     "start_time": "2025-10-07T05:01:02.789531",
     "status": "completed"
    },
    "tags": []
   },
   "outputs": [
    {
     "name": "stdout",
     "output_type": "stream",
     "text": [
      "Final Validation Accuracy: 0.7768154563624251\n",
      "Confusion Matrix:\n",
      " [[793  81]\n",
      " [254 373]]\n"
     ]
    }
   ],
   "source": [
    "# Train final model with best parameters\n",
    "best_rf_model = grid_search.best_estimator_\n",
    "best_rf_model.fit(X_train, y_train)  # Use the training subset\n",
    "\n",
    "# Predict on validation set\n",
    "y_val_pred_final = best_rf_model.predict(X_val)\n",
    "print(\"Final Validation Accuracy:\", accuracy_score(y_val, y_val_pred_final))\n",
    "print(\"Confusion Matrix:\\n\", confusion_matrix(y_val, y_val_pred_final))"
   ]
  },
  {
   "cell_type": "markdown",
   "id": "065cc12e",
   "metadata": {
    "papermill": {
     "duration": 0.005136,
     "end_time": "2025-10-07T05:01:12.873638",
     "exception": false,
     "start_time": "2025-10-07T05:01:12.868502",
     "status": "completed"
    },
    "tags": []
   },
   "source": [
    "Feature Importance"
   ]
  },
  {
   "cell_type": "code",
   "execution_count": 9,
   "id": "c5f8e024",
   "metadata": {
    "execution": {
     "iopub.execute_input": "2025-10-07T05:01:12.885409Z",
     "iopub.status.busy": "2025-10-07T05:01:12.885076Z",
     "iopub.status.idle": "2025-10-07T05:01:13.160613Z",
     "shell.execute_reply": "2025-10-07T05:01:13.159837Z"
    },
    "papermill": {
     "duration": 0.283137,
     "end_time": "2025-10-07T05:01:13.162013",
     "exception": false,
     "start_time": "2025-10-07T05:01:12.878876",
     "status": "completed"
    },
    "tags": []
   },
   "outputs": [
    {
     "data": {
      "image/png": "[encoded data removed]",
      "text/plain": [
       "<Figure size 1000x600 with 1 Axes>"
      ]
     },
     "metadata": {},
     "output_type": "display_data"
    }
   ],
   "source": [
    "# Plot feature importance\n",
    "feature_importances = best_rf_model.feature_importances_\n",
    "top_features = np.argsort(feature_importances)[-10:]\n",
    "plt.figure(figsize=(10, 6))\n",
    "plt.barh(range(len(top_features)), feature_importances[top_features])\n",
    "plt.yticks(range(len(top_features)), [tfidf_vectorizer.get_feature_names_out()[i] for i in top_features])\n",
    "plt.title(\"Top 10 Important Features\")\n",
    "plt.show()"
   ]
  },
  {
   "cell_type": "markdown",
   "id": "9ea0dd7e",
   "metadata": {
    "papermill": {
     "duration": 0.005315,
     "end_time": "2025-10-07T05:01:13.173317",
     "exception": false,
     "start_time": "2025-10-07T05:01:13.168002",
     "status": "completed"
    },
    "tags": []
   },
   "source": [
    "Conclusion\n",
    "Key Takeaways\n",
    "- Data Cleaning: Removing duplicates and handling missing values improved model performance.\n",
    "- TF-IDF Vectorization: Effectively captured textual patterns for classification.\n",
    "- Random Forest: Achieved good accuracy and interpretability.\n",
    "- Hyperparameter Tuning: Improved model generalization.\n",
    "Future Improvements\n",
    "- Experiment with advanced NLP techniques like BERT or Word2Vec.\n",
    "- Use more sophisticated models like LSTM or GRU.\n",
    "- Incorporate metadata (keyword, location) for additional context."
   ]
  },
  {
   "cell_type": "markdown",
   "id": "43012d79",
   "metadata": {
    "papermill": {
     "duration": 0.005187,
     "end_time": "2025-10-07T05:01:13.183915",
     "exception": false,
     "start_time": "2025-10-07T05:01:13.178728",
     "status": "completed"
    },
    "tags": []
   },
   "source": [
    "Submission Preparation\n",
    "Make Predictions on Test Set"
   ]
  },
  {
   "cell_type": "code",
   "execution_count": 10,
   "id": "e5dab2c4",
   "metadata": {
    "execution": {
     "iopub.execute_input": "2025-10-07T05:01:13.195974Z",
     "iopub.status.busy": "2025-10-07T05:01:13.195680Z",
     "iopub.status.idle": "2025-10-07T05:01:13.517039Z",
     "shell.execute_reply": "2025-10-07T05:01:13.516217Z"
    },
    "papermill": {
     "duration": 0.329082,
     "end_time": "2025-10-07T05:01:13.518318",
     "exception": false,
     "start_time": "2025-10-07T05:01:13.189236",
     "status": "completed"
    },
    "tags": []
   },
   "outputs": [
    {
     "data": {
      "text/html": [
       "<div>\n",
       "<style scoped>\n",
       "    .dataframe tbody tr th:only-of-type {\n",
       "        vertical-align: middle;\n",
       "    }\n",
       "\n",
       "    .dataframe tbody tr th {\n",
       "        vertical-align: top;\n",
       "    }\n",
       "\n",
       "    .dataframe thead th {\n",
       "        text-align: right;\n",
       "    }\n",
       "</style>\n",
       "<table border=\"1\" class=\"dataframe\">\n",
       "  <thead>\n",
       "    <tr style=\"text-align: right;\">\n",
       "      <th></th>\n",
       "      <th>id</th>\n",
       "      <th>target</th>\n",
       "    </tr>\n",
       "  </thead>\n",
       "  <tbody>\n",
       "    <tr>\n",
       "      <th>0</th>\n",
       "      <td>0</td>\n",
       "      <td>0</td>\n",
       "    </tr>\n",
       "    <tr>\n",
       "      <th>1</th>\n",
       "      <td>2</td>\n",
       "      <td>0</td>\n",
       "    </tr>\n",
       "    <tr>\n",
       "      <th>2</th>\n",
       "      <td>3</td>\n",
       "      <td>1</td>\n",
       "    </tr>\n",
       "    <tr>\n",
       "      <th>3</th>\n",
       "      <td>9</td>\n",
       "      <td>0</td>\n",
       "    </tr>\n",
       "    <tr>\n",
       "      <th>4</th>\n",
       "      <td>11</td>\n",
       "      <td>1</td>\n",
       "    </tr>\n",
       "  </tbody>\n",
       "</table>\n",
       "</div>"
      ],
      "text/plain": [
       "   id  target\n",
       "0   0       0\n",
       "1   2       0\n",
       "2   3       1\n",
       "3   9       0\n",
       "4  11       1"
      ]
     },
     "metadata": {},
     "output_type": "display_data"
    }
   ],
   "source": [
    "import os\n",
    "import pandas as pd\n",
    "\n",
    "# Create the directory if it doesn't exist\n",
    "os.makedirs('./data', exist_ok=True)\n",
    "\n",
    "# Transform the test set text data into TF-IDF features\n",
    "X_test_tfidf = tfidf_vectorizer.transform(df_test['text'])\n",
    "\n",
    "# Predict on test set\n",
    "y_test_pred = best_rf_model.predict(X_test_tfidf)\n",
    "\n",
    "# Create submission file\n",
    "submission = pd.DataFrame({'id': df_test.index, 'target': y_test_pred})\n",
    "submission.to_csv(\"./data/submission.csv\", index=False)\n",
    "\n",
    "# Display first few rows of submission\n",
    "display(submission.head())"
   ]
  },
  {
   "cell_type": "code",
   "execution_count": 11,
   "id": "1847277e",
   "metadata": {
    "execution": {
     "iopub.execute_input": "2025-10-07T05:01:13.531250Z",
     "iopub.status.busy": "2025-10-07T05:01:13.530981Z",
     "iopub.status.idle": "2025-10-07T05:01:51.010801Z",
     "shell.execute_reply": "2025-10-07T05:01:51.009818Z"
    },
    "papermill": {
     "duration": 37.488127,
     "end_time": "2025-10-07T05:01:51.012454",
     "exception": false,
     "start_time": "2025-10-07T05:01:13.524327",
     "status": "completed"
    },
    "tags": []
   },
   "outputs": [
    {
     "name": "stdout",
     "output_type": "stream",
     "text": [
      "Requirement already satisfied: kaggle in /usr/local/lib/python3.11/dist-packages (1.7.4.5)\r\n",
      "Requirement already satisfied: bleach in /usr/local/lib/python3.11/dist-packages (from kaggle) (6.2.0)\r\n",
      "Requirement already satisfied: certifi>=14.05.14 in /usr/local/lib/python3.11/dist-packages (from kaggle) (2025.6.15)\r\n",
      "Requirement already satisfied: charset-normalizer in /usr/local/lib/python3.11/dist-packages (from kaggle) (3.4.2)\r\n",
      "Requirement already satisfied: idna in /usr/local/lib/python3.11/dist-packages (from kaggle) (3.10)\r\n",
      "Requirement already satisfied: protobuf in /usr/local/lib/python3.11/dist-packages (from kaggle) (3.20.3)\r\n",
      "Requirement already satisfied: python-dateutil>=2.5.3 in /usr/local/lib/python3.11/dist-packages (from kaggle) (2.9.0.post0)\r\n",
      "Requirement already satisfied: python-slugify in /usr/local/lib/python3.11/dist-packages (from kaggle) (8.0.4)\r\n",
      "Requirement already satisfied: requests in /usr/local/lib/python3.11/dist-packages (from kaggle) (2.32.4)\r\n",
      "Requirement already satisfied: setuptools>=21.0.0 in /usr/local/lib/python3.11/dist-packages (from kaggle) (75.2.0)\r\n",
      "Requirement already satisfied: six>=1.10 in /usr/local/lib/python3.11/dist-packages (from kaggle) (1.17.0)\r\n",
      "Requirement already satisfied: text-unidecode in /usr/local/lib/python3.11/dist-packages (from kaggle) (1.3)\r\n",
      "Requirement already satisfied: tqdm in /usr/local/lib/python3.11/dist-packages (from kaggle) (4.67.1)\r\n",
      "Requirement already satisfied: urllib3>=1.15.1 in /usr/local/lib/python3.11/dist-packages (from kaggle) (2.5.0)\r\n",
      "Requirement already satisfied: webencodings in /usr/local/lib/python3.11/dist-packages (from kaggle) (0.5.1)\r\n",
      "Available files in kaggleapi dataset: ['kaggle.json']\n",
      "Files in /root/.kaggle: ['kaggle.json']\n",
      "Submission file found at: /kaggle/working/data/submission.csv\n",
      "HTTPSConnectionPool(host='www.kaggle.com', port=443): Max retries exceeded with url: /api/v1/competitions/submission-url (Caused by NameResolutionError(\"<urllib3.connection.HTTPSConnection object at 0x7a65d6c3d210>: Failed to resolve 'www.kaggle.com' ([Errno -3] Temporary failure in name resolution)\"))\r\n",
      "Submission completed using Kaggle CLI.\n"
     ]
    }
   ],
   "source": [
    "# Step 1: Install Kaggle CLI\n",
    "!pip install kaggle\n",
    "\n",
    "# Step 2: Import necessary libraries\n",
    "import os\n",
    "\n",
    "# Step 3: Verify the dataset location\n",
    "print(\"Available files in kaggleapi dataset:\", os.listdir('/kaggle/input/kaggleapi'))\n",
    "\n",
    "# Step 4: Move kaggle.json to the correct directory\n",
    "os.makedirs('/root/.kaggle', exist_ok=True)\n",
    "os.system('cp /kaggle/input/kaggleapi/kaggle.json /root/.kaggle/')\n",
    "os.system('chmod 600 /root/.kaggle/kaggle.json')\n",
    "\n",
    "# Step 5: Verify the file was moved successfully\n",
    "print(\"Files in /root/.kaggle:\", os.listdir('/root/.kaggle'))\n",
    "\n",
    "# Step 6: Verify the submission file exists\n",
    "submission_file = \"/kaggle/working/data/submission.csv\"\n",
    "if os.path.exists(submission_file):\n",
    "    print(f\"Submission file found at: {submission_file}\")\n",
    "else:\n",
    "    raise FileNotFoundError(f\"Submission file not found at: {submission_file}\")\n",
    "\n",
    "# Step 7: Submit using Kaggle CLI\n",
    "!kaggle competitions submit -c nlp-getting-started -f /kaggle/working/data/submission.csv -m \"Random Forest Model\"\n",
    "\n",
    "print(\"Submission completed using Kaggle CLI.\")"
   ]
  },
  {
   "cell_type": "markdown",
   "id": "9824ba97",
   "metadata": {
    "papermill": {
     "duration": 0.0059,
     "end_time": "2025-10-07T05:01:51.024843",
     "exception": false,
     "start_time": "2025-10-07T05:01:51.018943",
     "status": "completed"
    },
    "tags": []
   },
   "source": [
    "### References\n",
    "Kaggle NLP Getting Started Tutorial\n",
    "\n",
    "BERT for Disaster Tweets\n",
    "\n",
    "ReviewNB for Notebook Collaboration"
   ]
  }
 ],
 "metadata": {
  "kaggle": {
   "accelerator": "none",
   "dataSources": [
    {
     "databundleVersionId": 869809,
     "sourceId": 17777,
     "sourceType": "competition"
    },
    {
     "datasetId": 8412560,
     "sourceId": 13274897,
     "sourceType": "datasetVersion"
    }
   ],
   "dockerImageVersionId": 31089,
   "isGpuEnabled": false,
   "isInternetEnabled": false,
   "language": "python",
   "sourceType": "notebook"
  },
  "kernelspec": {
   "display_name": "Python 3",
   "language": "python",
   "name": "python3"
  },
  "language_info": {
   "codemirror_mode": {
    "name": "ipython",
    "version": 3
   },
   "file_extension": ".py",
   "mimetype": "text/x-python",
   "name": "python",
   "nbconvert_exporter": "python",
   "pygments_lexer": "ipython3",
   "version": "3.11.13"
  },
  "papermill": {
   "default_parameters": {},
   "duration": 181.010074,
   "end_time": "2025-10-07T05:01:53.650723",
   "environment_variables": {},
   "exception": null,
   "input_path": "__notebook__.ipynb",
   "output_path": "__notebook__.ipynb",
   "parameters": {},
   "start_time": "2025-10-07T04:58:52.640649",
   "version": "2.6.0"
  }
 },
 "nbformat": 4,
 "nbformat_minor": 5
}
